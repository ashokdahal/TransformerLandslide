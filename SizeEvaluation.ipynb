{
 "cells": [
  {
   "cell_type": "code",
   "execution_count": null,
   "metadata": {},
   "outputs": [],
   "source": [
    "import seaborn as sns\n",
    "import pandas as pd\n",
    "import numpy as np\n",
    "import geopandas as gpd"
   ]
  },
  {
   "cell_type": "code",
   "execution_count": null,
   "metadata": {},
   "outputs": [],
   "source": [
    "df_both = gpd.read_file(\"Data/both_preds.gpkg\")\n",
    "df_ts = gpd.read_file(\"Data/changed_preds.gpkg\")\n",
    "ls_both = df_both.LsArea.to_numpy()\n",
    "ls_ts = df_ts.LsArea.to_numpy()"
   ]
  },
  {
   "cell_type": "code",
   "execution_count": null,
   "metadata": {},
   "outputs": [],
   "source": [
    "all_ls = gpd.read_file(\"Data/stations.shp\")\n",
    "all_ls = all_ls[all_ls.Landslide == 1]"
   ]
  },
  {
   "cell_type": "code",
   "execution_count": null,
   "metadata": {},
   "outputs": [],
   "source": [
    "# mean size\n",
    "print(df_both.LsArea.to_numpy().mean())\n",
    "print(df_ts.LsArea.to_numpy().mean())"
   ]
  },
  {
   "cell_type": "code",
   "execution_count": null,
   "metadata": {},
   "outputs": [],
   "source": [
    "# total size\n",
    "print(df_both.LsArea.to_numpy().sum())\n",
    "print(np.concatenate([df_ts.LsArea.to_numpy(), df_both.LsArea.to_numpy()]).sum())"
   ]
  },
  {
   "cell_type": "code",
   "execution_count": null,
   "metadata": {},
   "outputs": [],
   "source": [
    "q95 = round(all_ls.LsArea.quantile(0.95))\n",
    "print(\n",
    "    f\"sizes: {ls_both[ls_both>q95].mean(),np.concatenate([ls_both[ls_both>q95],ls_ts[ls_ts>q95]]).mean()}\"\n",
    ")"
   ]
  },
  {
   "cell_type": "code",
   "execution_count": null,
   "metadata": {},
   "outputs": [],
   "source": [
    "print(\n",
    "    f\"Precentage Predictions: {(ls_both[ls_both>q95].shape[0]/largeLS,ls_ts[ls_ts>q95].shape[0]/largeLS)}\"\n",
    ")"
   ]
  },
  {
   "cell_type": "code",
   "execution_count": null,
   "metadata": {},
   "outputs": [],
   "source": [
    "all_preds = df_both.stcode.to_list() + df_ts.stcode.to_list()\n",
    "dfpred = all_ls[~all_ls.stcode.isin(all_preds)]\n",
    "dfpred.to_file(\"Data/missed_both.gpkg\")"
   ]
  }
 ],
 "metadata": {
  "kernelspec": {
   "display_name": "dlgeo",
   "language": "python",
   "name": "python3"
  },
  "language_info": {
   "codemirror_mode": {
    "name": "ipython",
    "version": 3
   },
   "file_extension": ".py",
   "mimetype": "text/x-python",
   "name": "python",
   "nbconvert_exporter": "python",
   "pygments_lexer": "ipython3",
   "version": "3.10.0"
  }
 },
 "nbformat": 4,
 "nbformat_minor": 2
}
